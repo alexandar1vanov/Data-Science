{
 "cells": [
  {
   "cell_type": "markdown",
   "id": "9c6b96ea-4e53-4fda-8b20-d071f0b97099",
   "metadata": {
    "deletable": false,
    "editable": false,
    "nbgrader": {
     "cell_type": "markdown",
     "checksum": "8f9dc704ef45c17e92bc7e3fd73d1c40",
     "grade": false,
     "grade_id": "cell-39b682f53ce7982b",
     "locked": true,
     "schema_version": 3,
     "solution": false,
     "task": false
    }
   },
   "source": [
    "# Laboratory Exercise 1 - Starter (2 points)"
   ]
  },
  {
   "cell_type": "markdown",
   "id": "e775f285-e081-49d6-8fdf-930fc4b46c92",
   "metadata": {
    "deletable": false,
    "editable": false,
    "nbgrader": {
     "cell_type": "markdown",
     "checksum": "5a31785963ef33f61c04d54d0dc569be",
     "grade": false,
     "grade_id": "cell-e1839ccdba54c0a5",
     "locked": true,
     "schema_version": 3,
     "solution": false,
     "task": false
    }
   },
   "source": [
    "In this assignment, you will perform **web scraping** on the website [https://books.toscrape.com/](https://books.toscrape.com/).\n",
    "\n",
    "Your tasks are as follows:\n",
    "\n",
    "1. **Extract** `image_url`, `rating`, `title`, and `price` for the 20 books displayed on the main page.\n",
    "2. **Organize the data** into a **pandas.DataFrame**.\n",
    "3. **Visualize** the collected data according to the given requirements.\n",
    "\n",
    "**Notes:**\n",
    "\n",
    "- Some parts of the code are already provided. **Do not modify the existing code.**\n",
    "- **Do not hard-code** any values or test data. There are hidden tests that will check your implementation.\n",
    "- Write your solution only in the sections marked with `### YOUR SOLUTION`.\n",
    "- Each task description indicates whether it is **automatically** or **manually graded**.\n",
    "- You can verify automatically graded tasks using the cell labeled `### TEST` after each function.\n",
    "\n",
    "***IMPORTANT NOTE:***\n",
    "- Name your Jupyter Notebook as `lab_ex_1_{index}.ipynb`.\n",
    "- For example, if your index is 123456, you should name your notebook as `lab_ex_1_12346.ipynb`."
   ]
  },
  {
   "cell_type": "code",
   "id": "472e2839-bdba-4df7-b369-255adde1cb67",
   "metadata": {
    "deletable": false,
    "editable": false,
    "nbgrader": {
     "cell_type": "code",
     "checksum": "2774243907e5d5f74cf4a71718ca13f9",
     "grade": false,
     "grade_id": "cell-a6e354e12b1d3ced",
     "locked": true,
     "schema_version": 3,
     "solution": false,
     "task": false
    },
    "ExecuteTime": {
     "end_time": "2025-10-31T00:16:26.462431Z",
     "start_time": "2025-10-31T00:16:26.458667Z"
    }
   },
   "source": [
    "import requests\n",
    "import pandas as pd\n",
    "import matplotlib.pyplot as plt\n",
    "import seaborn as sns\n",
    "from bs4 import BeautifulSoup"
   ],
   "outputs": [],
   "execution_count": 3
  },
  {
   "cell_type": "code",
   "id": "b9081606-9c70-4636-a452-79fbedfa2871",
   "metadata": {
    "deletable": false,
    "editable": false,
    "nbgrader": {
     "cell_type": "code",
     "checksum": "0cb2205ce2e3566e8a3df2347fb460d0",
     "grade": false,
     "grade_id": "cell-60cf9908f02b9da7",
     "locked": true,
     "schema_version": 3,
     "solution": false,
     "task": false
    },
    "ExecuteTime": {
     "end_time": "2025-10-31T00:16:26.664283Z",
     "start_time": "2025-10-31T00:16:26.659715Z"
    }
   },
   "source": [
    "url = \"https://books.toscrape.com/\""
   ],
   "outputs": [],
   "execution_count": 4
  },
  {
   "cell_type": "code",
   "id": "eed9a568-a86d-4647-9f57-982561788afd",
   "metadata": {
    "deletable": false,
    "editable": false,
    "nbgrader": {
     "cell_type": "code",
     "checksum": "e7c75958ddb997c7171d0f59e01f4bea",
     "grade": false,
     "grade_id": "cell-bd475bd03ecf42b5",
     "locked": true,
     "schema_version": 3,
     "solution": false,
     "task": false
    },
    "ExecuteTime": {
     "end_time": "2025-10-31T00:16:27.743937Z",
     "start_time": "2025-10-31T00:16:26.836853Z"
    }
   },
   "source": [
    "response = requests.get(url)"
   ],
   "outputs": [],
   "execution_count": 5
  },
  {
   "cell_type": "code",
   "id": "b4fad9a8-f0de-4788-b3b6-67a03e63df4b",
   "metadata": {
    "deletable": false,
    "editable": false,
    "nbgrader": {
     "cell_type": "code",
     "checksum": "1d05b9d2fa7d7051a6da0af824a5ce0c",
     "grade": false,
     "grade_id": "cell-4617c6773ed95207",
     "locked": true,
     "schema_version": 3,
     "solution": false,
     "task": false
    },
    "ExecuteTime": {
     "end_time": "2025-10-31T00:16:27.781271Z",
     "start_time": "2025-10-31T00:16:27.767275Z"
    }
   },
   "source": [
    "page_element = BeautifulSoup(response.text, \"html.parser\")"
   ],
   "outputs": [],
   "execution_count": 6
  },
  {
   "cell_type": "code",
   "id": "3802d414-dfca-4d2b-aa4d-9124e16cf565",
   "metadata": {
    "deletable": false,
    "editable": false,
    "nbgrader": {
     "cell_type": "code",
     "checksum": "c56eef47b6070e47a75e461a0cc996ce",
     "grade": false,
     "grade_id": "cell-bb81a0adaf43b06a",
     "locked": true,
     "schema_version": 3,
     "solution": false,
     "task": false
    },
    "ExecuteTime": {
     "end_time": "2025-10-31T00:16:27.793868Z",
     "start_time": "2025-10-31T00:16:27.786864Z"
    }
   },
   "source": [
    "product_elements = page_element.select(\"article.product_pod\")\n",
    "product_elements[0]"
   ],
   "outputs": [
    {
     "data": {
      "text/plain": [
       "<article class=\"product_pod\">\n",
       "<div class=\"image_container\">\n",
       "<a href=\"catalogue/a-light-in-the-attic_1000/index.html\"><img alt=\"A Light in the Attic\" class=\"thumbnail\" src=\"media/cache/2c/da/2cdad67c44b002e7ead0cc35693c0e8b.jpg\"/></a>\n",
       "</div>\n",
       "<p class=\"star-rating Three\">\n",
       "<i class=\"icon-star\"></i>\n",
       "<i class=\"icon-star\"></i>\n",
       "<i class=\"icon-star\"></i>\n",
       "<i class=\"icon-star\"></i>\n",
       "<i class=\"icon-star\"></i>\n",
       "</p>\n",
       "<h3><a href=\"catalogue/a-light-in-the-attic_1000/index.html\" title=\"A Light in the Attic\">A Light in the ...</a></h3>\n",
       "<div class=\"product_price\">\n",
       "<p class=\"price_color\">Â£51.77</p>\n",
       "<p class=\"instock availability\">\n",
       "<i class=\"icon-ok\"></i>\n",
       "    \n",
       "        In stock\n",
       "    \n",
       "</p>\n",
       "<form>\n",
       "<button class=\"btn btn-primary btn-block\" data-loading-text=\"Adding...\" type=\"submit\">Add to basket</button>\n",
       "</form>\n",
       "</div>\n",
       "</article>"
      ]
     },
     "execution_count": 7,
     "metadata": {},
     "output_type": "execute_result"
    }
   ],
   "execution_count": 7
  },
  {
   "cell_type": "markdown",
   "id": "11c2039c-d276-4eb1-a0ed-8d3b189e8443",
   "metadata": {
    "deletable": false,
    "editable": false,
    "nbgrader": {
     "cell_type": "markdown",
     "checksum": "cf0f4483c9fbc572005badfee372676e",
     "grade": false,
     "grade_id": "cell-42c1156c78173608",
     "locked": true,
     "schema_version": 3,
     "solution": false,
     "task": false
    }
   },
   "source": [
    "**(0.2 points)** Implement the `get_image_url` function to return the image URL of a given product element using **BeautifulSoup**. For example, the first product on the page has the image URL `\"media/cache/2c/da/2cdad67c44b002e7ead0cc35693c0e8b.jpg\"`."
   ]
  },
  {
   "cell_type": "code",
   "id": "7a0c9d1d-6ec7-4eeb-b4c6-2278812dee4f",
   "metadata": {
    "deletable": false,
    "nbgrader": {
     "cell_type": "code",
     "checksum": "7d49d4c8c16b45d97fb9cc834cac26da",
     "grade": false,
     "grade_id": "cell-2916ab1737f17d0b",
     "locked": false,
     "schema_version": 3,
     "solution": true,
     "task": false
    },
    "ExecuteTime": {
     "end_time": "2025-10-30T21:45:43.225083Z",
     "start_time": "2025-10-30T21:45:43.215296Z"
    }
   },
   "source": [
    "### AUTOMATICALLY GRADED TASK\n",
    "def get_image_url(product_element):\n",
    "    \"Get the URL of the image from the given product element using BeautifulSoup.\"\n",
    "    imageUrl = product_element.select_one(\".thumbnail\").get(\"src\")\n",
    "    return imageUrl\n",
    "    # YOUR CODE HEREeee\n",
    "    raise NotImplementedError()"
   ],
   "outputs": [],
   "execution_count": 15
  },
  {
   "cell_type": "markdown",
   "id": "3d43fd43-ae2b-436f-a6b6-120d4a62c6a4",
   "metadata": {
    "deletable": false,
    "editable": false,
    "nbgrader": {
     "cell_type": "markdown",
     "checksum": "37d829945fab4e570f94e463e7e5cc58",
     "grade": false,
     "grade_id": "cell-3830e36fea4e7897",
     "locked": true,
     "schema_version": 3,
     "solution": false,
     "task": false
    }
   },
   "source": [
    "Test your implementation by running the following cell."
   ]
  },
  {
   "cell_type": "code",
   "id": "c4b93534-ad17-4f1a-93e3-2206ac6f0aaa",
   "metadata": {
    "deletable": false,
    "editable": false,
    "nbgrader": {
     "cell_type": "code",
     "checksum": "75005d086696a15f9ba11676d4ebf40e",
     "grade": true,
     "grade_id": "cell-30a6648b0f0ec9ee",
     "locked": true,
     "points": 0.2,
     "schema_version": 3,
     "solution": false,
     "task": false
    },
    "ExecuteTime": {
     "end_time": "2025-10-30T21:45:44.888349Z",
     "start_time": "2025-10-30T21:45:44.882298Z"
    }
   },
   "source": [
    "### TEST\n",
    "assert get_image_url(product_elements[0]) == \"media/cache/2c/da/2cdad67c44b002e7ead0cc35693c0e8b.jpg\""
   ],
   "outputs": [],
   "execution_count": 16
  },
  {
   "cell_type": "markdown",
   "id": "42dd4a6b-7792-49f5-90c6-840ead97b245",
   "metadata": {
    "deletable": false,
    "editable": false,
    "nbgrader": {
     "cell_type": "markdown",
     "checksum": "f02c7457e797766673eedbaf7e5f452c",
     "grade": false,
     "grade_id": "cell-8cc307dadd66ef7e",
     "locked": true,
     "schema_version": 3,
     "solution": false,
     "task": false
    }
   },
   "source": [
    "**(0.2 points)** Implement the `get_rating` function to return the product’s rating as an integer between 1 and 5. For example, the first product on the page has a rating of `3`."
   ]
  },
  {
   "cell_type": "code",
   "id": "96d3753f-b84c-4e9c-ab60-5dd16a5c15a4",
   "metadata": {
    "deletable": false,
    "nbgrader": {
     "cell_type": "code",
     "checksum": "fb0f91bd1c9f1fea394761c810c118da",
     "grade": false,
     "grade_id": "cell-1263d0f20bfd0ed0",
     "locked": false,
     "schema_version": 3,
     "solution": true,
     "task": false
    },
    "ExecuteTime": {
     "end_time": "2025-10-30T22:02:10.709851Z",
     "start_time": "2025-10-30T22:02:10.701906Z"
    }
   },
   "source": [
    "### AUTOMATICALLY GRADED TASK\n",
    "def get_rating(product_element):\n",
    "    \"Get the rating (1-5) of the given product element.\"\n",
    "    rating = product_element.select_one(\".star-rating\").get(\"class\")[1]\n",
    "    rating_dict = {\"One\": 1, \"Two\": 2, \"Three\": 3, \"Four\": 4, \"Five\": 5}\n",
    "    return rating_dict[rating]\n",
    "    # YOUR CODE HERE\n",
    "    raise NotImplementedError()"
   ],
   "outputs": [],
   "execution_count": 54
  },
  {
   "cell_type": "markdown",
   "id": "4da01887-f4e0-4935-b6a9-7282ffcad573",
   "metadata": {
    "deletable": false,
    "editable": false,
    "nbgrader": {
     "cell_type": "markdown",
     "checksum": "8408a2a84269d913342dfe104cc5c3c3",
     "grade": false,
     "grade_id": "cell-9161ab5f38729c22",
     "locked": true,
     "schema_version": 3,
     "solution": false,
     "task": false
    }
   },
   "source": [
    "Test your implementation by running the following cell."
   ]
  },
  {
   "cell_type": "code",
   "id": "a2c34fdc-32d4-410f-8172-5921f8354a81",
   "metadata": {
    "deletable": false,
    "editable": false,
    "nbgrader": {
     "cell_type": "code",
     "checksum": "b424db8c3773cdc9c70cb12d92654563",
     "grade": true,
     "grade_id": "cell-9b6c7f9737451042",
     "locked": true,
     "points": 0.2,
     "schema_version": 3,
     "solution": false,
     "task": false
    },
    "ExecuteTime": {
     "end_time": "2025-10-30T22:02:22.785675Z",
     "start_time": "2025-10-30T22:02:22.781675Z"
    }
   },
   "source": [
    "### TEST\n",
    "assert get_rating(product_elements[0]) == 3\n",
    "# get_rating(product_elements[0])"
   ],
   "outputs": [],
   "execution_count": 58
  },
  {
   "cell_type": "markdown",
   "id": "55ce0be2-93fb-41ba-843e-6b4740f7b28c",
   "metadata": {
    "deletable": false,
    "editable": false,
    "nbgrader": {
     "cell_type": "markdown",
     "checksum": "ebc5aa95869c3aade194b17a69e2e81a",
     "grade": false,
     "grade_id": "cell-9acab3b534aa158e",
     "locked": true,
     "schema_version": 3,
     "solution": false,
     "task": false
    }
   },
   "source": [
    "**(0.2 points)** Implement the `get_title` function to return the full title of the given product as a string. For example, the first product on the page has the title `\"A Light in the Attic\"`."
   ]
  },
  {
   "cell_type": "code",
   "id": "a01b6720-2d9c-459e-911e-9a3887bbcbf1",
   "metadata": {
    "deletable": false,
    "nbgrader": {
     "cell_type": "code",
     "checksum": "ed9fe1920cf3842a1af40dcc410143bf",
     "grade": false,
     "grade_id": "cell-bfed43972258ef45",
     "locked": false,
     "schema_version": 3,
     "solution": true,
     "task": false
    },
    "ExecuteTime": {
     "end_time": "2025-10-30T22:17:25.436988Z",
     "start_time": "2025-10-30T22:17:25.431176Z"
    }
   },
   "source": [
    "### AUTOMATICALLY GRADED TASK\n",
    "def get_title(product_element):\n",
    "    \"Get the full-length title of the given product element.\"\n",
    "    title = product_element.select_one(\".thumbnail\").get(\"alt\")\n",
    "    return title\n",
    "    # YOUR CODE HEREe\n",
    "    raise NotImplementedError()"
   ],
   "outputs": [],
   "execution_count": 99
  },
  {
   "cell_type": "markdown",
   "id": "c783ffe6-bd82-4ee6-8e27-1364f8aeca5e",
   "metadata": {
    "deletable": false,
    "editable": false,
    "nbgrader": {
     "cell_type": "markdown",
     "checksum": "dd190e9566015e504acf354de14188c9",
     "grade": false,
     "grade_id": "cell-8e8e616bbc311909",
     "locked": true,
     "schema_version": 3,
     "solution": false,
     "task": false
    }
   },
   "source": [
    "Test your implementation by running the following cell."
   ]
  },
  {
   "cell_type": "code",
   "id": "e2b7dc77-0be2-4ad4-9f4c-4f32694d1cd7",
   "metadata": {
    "deletable": false,
    "editable": false,
    "nbgrader": {
     "cell_type": "code",
     "checksum": "2c26021bb7785ae35b9672f0ba94d875",
     "grade": true,
     "grade_id": "cell-cee445e198fed068",
     "locked": true,
     "points": 0.2,
     "schema_version": 3,
     "solution": false,
     "task": false
    },
    "ExecuteTime": {
     "end_time": "2025-10-30T22:17:35.270273Z",
     "start_time": "2025-10-30T22:17:35.264715Z"
    }
   },
   "source": [
    "### TEST\n",
    "assert get_title(product_elements[0]) == \"A Light in the Attic\"\n",
    "# get_title(product_elements[0])"
   ],
   "outputs": [],
   "execution_count": 101
  },
  {
   "cell_type": "markdown",
   "id": "57e8c6aa-fb3c-4dab-b129-8886d0311065",
   "metadata": {
    "deletable": false,
    "editable": false,
    "nbgrader": {
     "cell_type": "markdown",
     "checksum": "0804f9d2cb9c4d0ab9c8e9c7a37547f7",
     "grade": false,
     "grade_id": "cell-e33aa4fb715e2e82",
     "locked": true,
     "schema_version": 3,
     "solution": false,
     "task": false
    }
   },
   "source": [
    "**(0.2 points)** Implement the `get_price` function to return the product’s price as a float. For example, the first product on the page has a price of `51.77`."
   ]
  },
  {
   "cell_type": "code",
   "id": "dd334f7d-a36a-4938-8ee4-fb065d04d562",
   "metadata": {
    "deletable": false,
    "nbgrader": {
     "cell_type": "code",
     "checksum": "5b9bb09ab4184b4f81a346263b781d6e",
     "grade": false,
     "grade_id": "cell-d4da8aaa77639d69",
     "locked": false,
     "schema_version": 3,
     "solution": true,
     "task": false
    },
    "ExecuteTime": {
     "end_time": "2025-10-30T22:38:11.885196Z",
     "start_time": "2025-10-30T22:38:11.876456Z"
    }
   },
   "source": [
    "def get_price(product_element):\n",
    "    \"Get the price of the given product element.\"\n",
    " # <div class=\"product_price\">\n",
    " # <p class=\"price_color\">Â£47.82</p>\n",
    " # <p class=\"instock availability\">\n",
    " # <i class=\"icon-ok\"></i>\n",
    "    # YOUR CODE HERE\n",
    "    import re\n",
    "    price_div = product_element.select_one(\".price_color\").text\n",
    "    price = re.findall(\"\\d+\\.\\d+\", price_div)[0]\n",
    "    return float(price)\n",
    "    raise NotImplementedError()"
   ],
   "outputs": [],
   "execution_count": 195
  },
  {
   "cell_type": "markdown",
   "id": "f3134c4f-ed53-4896-a098-d857a7ce17d4",
   "metadata": {
    "deletable": false,
    "editable": false,
    "nbgrader": {
     "cell_type": "markdown",
     "checksum": "24bf74ad33188af953d345d870aceb1f",
     "grade": false,
     "grade_id": "cell-9b60b0cffedc50ff",
     "locked": true,
     "schema_version": 3,
     "solution": false,
     "task": false
    }
   },
   "source": [
    "Test your implementation by running the following cell."
   ]
  },
  {
   "cell_type": "code",
   "id": "949e7806-09d4-4c7a-8477-93e6f62aa258",
   "metadata": {
    "deletable": false,
    "editable": false,
    "nbgrader": {
     "cell_type": "code",
     "checksum": "08f24e6f4177affd3f643ac34278444c",
     "grade": true,
     "grade_id": "cell-94f30d465d40cf21",
     "locked": true,
     "points": 0.2,
     "schema_version": 3,
     "solution": false,
     "task": false
    },
    "ExecuteTime": {
     "end_time": "2025-10-30T22:38:20.372240Z",
     "start_time": "2025-10-30T22:38:20.365982Z"
    }
   },
   "source": [
    "### TEST\n",
    "assert get_price(product_elements[0]) == 51.77\n",
    "# get_price(product_elements[0])\n",
    "# product_elements[0]"
   ],
   "outputs": [],
   "execution_count": 197
  },
  {
   "cell_type": "code",
   "id": "632d444d-8e23-4c47-ab39-d8e813a4de6f",
   "metadata": {
    "deletable": false,
    "editable": false,
    "nbgrader": {
     "cell_type": "code",
     "checksum": "19f2198c3ca683d4b2366d0e1c44abff",
     "grade": false,
     "grade_id": "cell-0b12df0ecf5ed50f",
     "locked": true,
     "schema_version": 3,
     "solution": false,
     "task": false
    },
    "ExecuteTime": {
     "end_time": "2025-10-30T22:38:22.663454Z",
     "start_time": "2025-10-30T22:38:22.658916Z"
    }
   },
   "source": [
    "def get_attributes(product_element):\n",
    "    return {\n",
    "        \"image_url\": get_image_url(product_element),\n",
    "        \"rating\": get_rating(product_element),\n",
    "        \"title\": get_title(product_element),\n",
    "        \"price\": get_price(product_element),\n",
    "    }"
   ],
   "outputs": [],
   "execution_count": 198
  },
  {
   "cell_type": "code",
   "id": "828ad04b-7265-4e44-83c0-64b5a1dadf5b",
   "metadata": {
    "deletable": false,
    "editable": false,
    "nbgrader": {
     "cell_type": "code",
     "checksum": "1c37fb428185f5e3fa8cd927f2d93dda",
     "grade": false,
     "grade_id": "cell-c64a56c997efa9c7",
     "locked": true,
     "schema_version": 3,
     "solution": false,
     "task": false
    },
    "ExecuteTime": {
     "end_time": "2025-10-30T22:38:28.801845Z",
     "start_time": "2025-10-30T22:38:28.796004Z"
    }
   },
   "source": [
    "get_attributes(product_elements[0])"
   ],
   "outputs": [
    {
     "data": {
      "text/plain": [
       "{'image_url': 'media/cache/2c/da/2cdad67c44b002e7ead0cc35693c0e8b.jpg',\n",
       " 'rating': 3,\n",
       " 'title': 'A Light in the Attic',\n",
       " 'price': 51.77}"
      ]
     },
     "execution_count": 199,
     "metadata": {},
     "output_type": "execute_result"
    }
   ],
   "execution_count": 199
  },
  {
   "cell_type": "code",
   "id": "6b7f62fa-9e23-49cc-b57a-88e81039fcbc",
   "metadata": {
    "deletable": false,
    "editable": false,
    "nbgrader": {
     "cell_type": "code",
     "checksum": "523d019095cbd6eafa24a16f9b4419ff",
     "grade": false,
     "grade_id": "cell-e01c627713c55cc9",
     "locked": true,
     "schema_version": 3,
     "solution": false,
     "task": false
    },
    "ExecuteTime": {
     "end_time": "2025-10-30T22:38:38.138645Z",
     "start_time": "2025-10-30T22:38:38.132332Z"
    }
   },
   "source": [
    "product_data = [get_attributes(product_element) for product_element in product_elements]"
   ],
   "outputs": [],
   "execution_count": 200
  },
  {
   "cell_type": "code",
   "id": "fb9e61ed-967a-4708-991e-eee41ef98b6f",
   "metadata": {
    "deletable": false,
    "editable": false,
    "nbgrader": {
     "cell_type": "code",
     "checksum": "9e4890dcb129e6d5ac36c07fe2155a38",
     "grade": false,
     "grade_id": "cell-c052e5ea8ab305cf",
     "locked": true,
     "schema_version": 3,
     "solution": false,
     "task": false
    },
    "ExecuteTime": {
     "end_time": "2025-10-30T22:38:42.279781Z",
     "start_time": "2025-10-30T22:38:42.260660Z"
    }
   },
   "source": [
    "df = pd.DataFrame(product_data)"
   ],
   "outputs": [],
   "execution_count": 201
  },
  {
   "cell_type": "code",
   "id": "2dfcebe6-5067-473a-a2a7-9c3c8398fa2e",
   "metadata": {
    "deletable": false,
    "editable": false,
    "nbgrader": {
     "cell_type": "code",
     "checksum": "280615ab04def73fd2fa632ca61ff63e",
     "grade": false,
     "grade_id": "cell-a6222aa3baebb271",
     "locked": true,
     "schema_version": 3,
     "solution": false,
     "task": false
    },
    "ExecuteTime": {
     "end_time": "2025-10-30T22:38:44.363260Z",
     "start_time": "2025-10-30T22:38:44.342471Z"
    }
   },
   "source": [
    "df.head()"
   ],
   "outputs": [
    {
     "data": {
      "text/plain": [
       "                                           image_url  rating  \\\n",
       "0  media/cache/2c/da/2cdad67c44b002e7ead0cc35693c...       3   \n",
       "1  media/cache/26/0c/260c6ae16bce31c8f8c95daddd9f...       1   \n",
       "2  media/cache/3e/ef/3eef99c9d9adef34639f51066202...       1   \n",
       "3  media/cache/32/51/3251cf3a3412f53f339e42cac213...       4   \n",
       "4  media/cache/be/a5/bea5697f2534a2f86a3ef27b5a8c...       5   \n",
       "\n",
       "                                   title  price  \n",
       "0                   A Light in the Attic  51.77  \n",
       "1                     Tipping the Velvet  53.74  \n",
       "2                             Soumission  50.10  \n",
       "3                          Sharp Objects  47.82  \n",
       "4  Sapiens: A Brief History of Humankind  54.23  "
      ],
      "text/html": [
       "<div>\n",
       "<style scoped>\n",
       "    .dataframe tbody tr th:only-of-type {\n",
       "        vertical-align: middle;\n",
       "    }\n",
       "\n",
       "    .dataframe tbody tr th {\n",
       "        vertical-align: top;\n",
       "    }\n",
       "\n",
       "    .dataframe thead th {\n",
       "        text-align: right;\n",
       "    }\n",
       "</style>\n",
       "<table border=\"1\" class=\"dataframe\">\n",
       "  <thead>\n",
       "    <tr style=\"text-align: right;\">\n",
       "      <th></th>\n",
       "      <th>image_url</th>\n",
       "      <th>rating</th>\n",
       "      <th>title</th>\n",
       "      <th>price</th>\n",
       "    </tr>\n",
       "  </thead>\n",
       "  <tbody>\n",
       "    <tr>\n",
       "      <th>0</th>\n",
       "      <td>media/cache/2c/da/2cdad67c44b002e7ead0cc35693c...</td>\n",
       "      <td>3</td>\n",
       "      <td>A Light in the Attic</td>\n",
       "      <td>51.77</td>\n",
       "    </tr>\n",
       "    <tr>\n",
       "      <th>1</th>\n",
       "      <td>media/cache/26/0c/260c6ae16bce31c8f8c95daddd9f...</td>\n",
       "      <td>1</td>\n",
       "      <td>Tipping the Velvet</td>\n",
       "      <td>53.74</td>\n",
       "    </tr>\n",
       "    <tr>\n",
       "      <th>2</th>\n",
       "      <td>media/cache/3e/ef/3eef99c9d9adef34639f51066202...</td>\n",
       "      <td>1</td>\n",
       "      <td>Soumission</td>\n",
       "      <td>50.10</td>\n",
       "    </tr>\n",
       "    <tr>\n",
       "      <th>3</th>\n",
       "      <td>media/cache/32/51/3251cf3a3412f53f339e42cac213...</td>\n",
       "      <td>4</td>\n",
       "      <td>Sharp Objects</td>\n",
       "      <td>47.82</td>\n",
       "    </tr>\n",
       "    <tr>\n",
       "      <th>4</th>\n",
       "      <td>media/cache/be/a5/bea5697f2534a2f86a3ef27b5a8c...</td>\n",
       "      <td>5</td>\n",
       "      <td>Sapiens: A Brief History of Humankind</td>\n",
       "      <td>54.23</td>\n",
       "    </tr>\n",
       "  </tbody>\n",
       "</table>\n",
       "</div>"
      ]
     },
     "execution_count": 202,
     "metadata": {},
     "output_type": "execute_result"
    }
   ],
   "execution_count": 202
  },
  {
   "cell_type": "markdown",
   "id": "8d0653ab-8874-412f-8963-da65dd5a3aac",
   "metadata": {
    "deletable": false,
    "editable": false,
    "nbgrader": {
     "cell_type": "markdown",
     "checksum": "75a7c7569c8098c3455770cacfd2df77",
     "grade": false,
     "grade_id": "cell-a73cd5dc3c259cff",
     "locked": true,
     "schema_version": 3,
     "solution": false,
     "task": false
    }
   },
   "source": [
    "***If you were not able to complete the previous tasks successfully, you may uncomment the following line to continue with the next steps.***"
   ]
  },
  {
   "cell_type": "code",
   "execution_count": null,
   "id": "b9d0f73f-8274-4499-a76a-fc1717104335",
   "metadata": {},
   "outputs": [],
   "source": [
    "# df = pd.read_csv(\"products.csv\")"
   ]
  },
  {
   "cell_type": "markdown",
   "id": "7a172458-9c1e-4c36-828a-6caa28ddab43",
   "metadata": {
    "deletable": false,
    "editable": false,
    "nbgrader": {
     "cell_type": "markdown",
     "checksum": "a6d73ee90981910d1864f1f4c43b7e55",
     "grade": false,
     "grade_id": "cell-414fe247e55c64be",
     "locked": true,
     "schema_version": 3,
     "solution": false,
     "task": false
    }
   },
   "source": [
    "**(0.2 points)** Create a visualization showing the number of products for each rating (1-5)."
   ]
  },
  {
   "metadata": {
    "deletable": false,
    "nbgrader": {
     "cell_type": "code",
     "checksum": "8a6cb85c5659eaca7bd25d615dd37eef",
     "grade": true,
     "grade_id": "cell-fc2d7650b3805138",
     "locked": false,
     "points": 0.2,
     "schema_version": 3,
     "solution": true,
     "task": false
    },
    "ExecuteTime": {
     "end_time": "2025-10-30T23:11:03.707199Z",
     "start_time": "2025-10-30T23:11:03.703986Z"
    }
   },
   "cell_type": "code",
   "source": [
    "### MANUALLY GRADED TASK\n",
    "def plot_counts_by_rating(df):\n",
    "    \"Plot the count of products by rating.\"\"\"\n",
    "\n",
    "    # YOUR CODE HERE\n",
    "    df['rating'].value_counts().plot.bar()\n",
    "    plt.ylabel('number of products')\n",
    "    plt.show()"
   ],
   "id": "a5120f9e02d8815a",
   "outputs": [],
   "execution_count": 239
  },
  {
   "cell_type": "code",
   "id": "f9beb3c1-f39d-4147-840a-51da9eefa5c2",
   "metadata": {
    "deletable": false,
    "editable": false,
    "nbgrader": {
     "cell_type": "code",
     "checksum": "5b319bd095a02df84f753372ebd07d43",
     "grade": false,
     "grade_id": "cell-6edcc72eac82aca4",
     "locked": true,
     "schema_version": 3,
     "solution": false,
     "task": false
    },
    "ExecuteTime": {
     "end_time": "2025-10-30T23:11:04.237654Z",
     "start_time": "2025-10-30T23:11:04.186327Z"
    }
   },
   "source": [
    "plot_counts_by_rating(df)"
   ],
   "outputs": [
    {
     "data": {
      "text/plain": [
       "<Figure size 640x480 with 1 Axes>"
      ],
      "image/png": "[encoded data removed]"
     },
     "metadata": {},
     "output_type": "display_data",
     "jetTransient": {
      "display_id": null
     }
    }
   ],
   "execution_count": 240
  },
  {
   "cell_type": "markdown",
   "id": "85fa7b8a-feeb-4068-a4e9-21506cdd9037",
   "metadata": {
    "deletable": false,
    "editable": false,
    "nbgrader": {
     "cell_type": "markdown",
     "checksum": "920d6cbff746e1e62c39b1b7cd6861c7",
     "grade": false,
     "grade_id": "cell-11109662304c5a2b",
     "locked": true,
     "schema_version": 3,
     "solution": false,
     "task": false
    }
   },
   "source": [
    "**(0.2 points)** Create a visualization showing the distribution of product prices."
   ]
  },
  {
   "cell_type": "code",
   "id": "279b0b57-81cb-4d2d-9a24-f5f6da53da24",
   "metadata": {
    "deletable": false,
    "nbgrader": {
     "cell_type": "code",
     "checksum": "d63d2f332992dce6aecc06b0021982d2",
     "grade": true,
     "grade_id": "cell-50327b69fe70d25e",
     "locked": false,
     "points": 0.2,
     "schema_version": 3,
     "solution": true,
     "task": false
    },
    "ExecuteTime": {
     "end_time": "2025-10-30T23:17:49.420342Z",
     "start_time": "2025-10-30T23:17:49.416028Z"
    }
   },
   "source": [
    "### MANUALLY GRADED TASK\n",
    "def plot_price_distribution(df):\n",
    "    \"\"\"Plot the price distribution of the products.\"\"\"\n",
    "\n",
    "    # YOUR CODE HERE\n",
    "    sns.histplot(df['price'], bins=10, kde=True)\n",
    "    plt.show()\n",
    "    # raise NotImplementedError()"
   ],
   "outputs": [],
   "execution_count": 266
  },
  {
   "cell_type": "code",
   "id": "e1d91142-5042-4e9c-8125-cab2fd5088eb",
   "metadata": {
    "deletable": false,
    "editable": false,
    "nbgrader": {
     "cell_type": "code",
     "checksum": "b77dfb66f2a0ac5d66d28ae229d05373",
     "grade": false,
     "grade_id": "cell-a87aa9d8d7eac193",
     "locked": true,
     "schema_version": 3,
     "solution": false,
     "task": false
    },
    "ExecuteTime": {
     "end_time": "2025-10-30T23:17:49.698849Z",
     "start_time": "2025-10-30T23:17:49.645406Z"
    }
   },
   "source": [
    "plot_price_distribution(df)"
   ],
   "outputs": [
    {
     "data": {
      "text/plain": [
       "<Figure size 640x480 with 1 Axes>"
      ],
      "image/png": "[encoded data removed]"
     },
     "metadata": {},
     "output_type": "display_data",
     "jetTransient": {
      "display_id": null
     }
    }
   ],
   "execution_count": 267
  },
  {
   "cell_type": "markdown",
   "id": "cff23ea9-ac2d-4e52-a9f0-18f5093f6aea",
   "metadata": {
    "deletable": false,
    "editable": false,
    "nbgrader": {
     "cell_type": "markdown",
     "checksum": "27c1f75ad39498e221a6386dc8130bfc",
     "grade": false,
     "grade_id": "cell-063d869a0d2fe147",
     "locked": true,
     "schema_version": 3,
     "solution": false,
     "task": false
    }
   },
   "source": [
    "**(0.2 points)** Create a visualization showing the distribution of product title lengths."
   ]
  },
  {
   "cell_type": "code",
   "id": "40ff8149-db66-480b-b9bd-0ceececcbfac",
   "metadata": {
    "deletable": false,
    "nbgrader": {
     "cell_type": "code",
     "checksum": "2186e711aafca08cdf75c1a4a07688e4",
     "grade": true,
     "grade_id": "cell-e9dc38d2f366378e",
     "locked": false,
     "points": 0.2,
     "schema_version": 3,
     "solution": true,
     "task": false
    },
    "ExecuteTime": {
     "end_time": "2025-10-30T23:22:16.103211Z",
     "start_time": "2025-10-30T23:22:16.097601Z"
    }
   },
   "source": [
    "### MANUALLY GRADED TASK\n",
    "def plot_title_length_distribution(df):\n",
    "    \"\"\"Plot the distribution of the title lengths.\"\"\"\n",
    "\n",
    "    # YOUR CODE HERE\n",
    "    df['title_length'] = df['title'].apply(len)\n",
    "    sns.histplot(df['title_length'], bins=20, kde=True)\n",
    "    plt.show()"
   ],
   "outputs": [],
   "execution_count": 273
  },
  {
   "cell_type": "code",
   "id": "e53dbf0c-c002-4d95-8c85-bc6a920535ce",
   "metadata": {
    "deletable": false,
    "editable": false,
    "nbgrader": {
     "cell_type": "code",
     "checksum": "143e5ef2003a7d28c7bb4ce621b44bf0",
     "grade": false,
     "grade_id": "cell-8d619faebf823e49",
     "locked": true,
     "schema_version": 3,
     "solution": false,
     "task": false
    },
    "ExecuteTime": {
     "end_time": "2025-10-30T23:22:17.858017Z",
     "start_time": "2025-10-30T23:22:17.791542Z"
    }
   },
   "source": [
    "plot_title_length_distribution(df)\n",
    "df"
   ],
   "outputs": [
    {
     "data": {
      "text/plain": [
       "<Figure size 640x480 with 1 Axes>"
      ],
      "image/png": "[encoded data removed]"
     },
     "metadata": {},
     "output_type": "display_data",
     "jetTransient": {
      "display_id": null
     }
    },
    {
     "data": {
      "text/plain": [
       "                                            image_url  rating  \\\n",
       "0   media/cache/2c/da/2cdad67c44b002e7ead0cc35693c...       3   \n",
       "1   media/cache/26/0c/260c6ae16bce31c8f8c95daddd9f...       1   \n",
       "2   media/cache/3e/ef/3eef99c9d9adef34639f51066202...       1   \n",
       "3   media/cache/32/51/3251cf3a3412f53f339e42cac213...       4   \n",
       "4   media/cache/be/a5/bea5697f2534a2f86a3ef27b5a8c...       5   \n",
       "5   media/cache/68/33/68339b4c9bc034267e1da611ab3b...       1   \n",
       "6   media/cache/92/27/92274a95b7c251fea59a2b8a7827...       4   \n",
       "7   media/cache/3d/54/3d54940e57e662c4dd1f3ff00c78...       3   \n",
       "8   media/cache/66/88/66883b91f6804b2323c8369331cb...       4   \n",
       "9   media/cache/58/46/5846057e28022268153beff6d352...       1   \n",
       "10  media/cache/be/f4/bef44da28c98f905a3ebec0b87be...       2   \n",
       "11  media/cache/10/48/1048f63d3b5061cd2f424d20b3f9...       4   \n",
       "12  media/cache/5b/88/5b88c52633f53cacf162c15f4f82...       5   \n",
       "13  media/cache/94/b1/94b1b8b244bce9677c2f29ccc890...       5   \n",
       "14  media/cache/81/c4/81c4a973364e17d01f217e118825...       5   \n",
       "15  media/cache/54/60/54607fe8945897cdcced0044103b...       3   \n",
       "16  media/cache/55/33/553310a7162dfbc2c6d19a84da0d...       1   \n",
       "17  media/cache/09/a3/09a3aef48557576e1a85ba7efea8...       1   \n",
       "18  media/cache/0b/bc/0bbcd0a6f4bcd81ccb1049a52736...       2   \n",
       "19  media/cache/27/a5/27a53d0bb95bdd88288eaf66c923...       2   \n",
       "\n",
       "                                                title  price  title_length  \n",
       "0                                A Light in the Attic  51.77            20  \n",
       "1                                  Tipping the Velvet  53.74            18  \n",
       "2                                          Soumission  50.10            10  \n",
       "3                                       Sharp Objects  47.82            13  \n",
       "4               Sapiens: A Brief History of Humankind  54.23            37  \n",
       "5                                     The Requiem Red  22.65            15  \n",
       "6   The Dirty Little Secrets of Getting Your Dream...  33.34            50  \n",
       "7   The Coming Woman: A Novel Based on the Life of...  17.93            87  \n",
       "8   The Boys in the Boat: Nine Americans and Their...  22.60            94  \n",
       "9                                     The Black Maria  52.15            15  \n",
       "10     Starving Hearts (Triangular Trade Trilogy, #1)  13.99            46  \n",
       "11                              Shakespeare's Sonnets  20.66            21  \n",
       "12                                        Set Me Free  17.46            11  \n",
       "13  Scott Pilgrim's Precious Little Life (Scott Pi...  52.29            55  \n",
       "14                          Rip it Up and Start Again  35.02            25  \n",
       "15  Our Band Could Be Your Life: Scenes from the A...  57.25            82  \n",
       "16                                               Olio  23.88             4  \n",
       "17  Mesaerion: The Best Science Fiction Stories 18...  37.59            53  \n",
       "18                       Libertarianism for Beginners  51.33            28  \n",
       "19                            It's Only the Himalayas  45.17            23  "
      ],
      "text/html": [
       "<div>\n",
       "<style scoped>\n",
       "    .dataframe tbody tr th:only-of-type {\n",
       "        vertical-align: middle;\n",
       "    }\n",
       "\n",
       "    .dataframe tbody tr th {\n",
       "        vertical-align: top;\n",
       "    }\n",
       "\n",
       "    .dataframe thead th {\n",
       "        text-align: right;\n",
       "    }\n",
       "</style>\n",
       "<table border=\"1\" class=\"dataframe\">\n",
       "  <thead>\n",
       "    <tr style=\"text-align: right;\">\n",
       "      <th></th>\n",
       "      <th>image_url</th>\n",
       "      <th>rating</th>\n",
       "      <th>title</th>\n",
       "      <th>price</th>\n",
       "      <th>title_length</th>\n",
       "    </tr>\n",
       "  </thead>\n",
       "  <tbody>\n",
       "    <tr>\n",
       "      <th>0</th>\n",
       "      <td>media/cache/2c/da/2cdad67c44b002e7ead0cc35693c...</td>\n",
       "      <td>3</td>\n",
       "      <td>A Light in the Attic</td>\n",
       "      <td>51.77</td>\n",
       "      <td>20</td>\n",
       "    </tr>\n",
       "    <tr>\n",
       "      <th>1</th>\n",
       "      <td>media/cache/26/0c/260c6ae16bce31c8f8c95daddd9f...</td>\n",
       "      <td>1</td>\n",
       "      <td>Tipping the Velvet</td>\n",
       "      <td>53.74</td>\n",
       "      <td>18</td>\n",
       "    </tr>\n",
       "    <tr>\n",
       "      <th>2</th>\n",
       "      <td>media/cache/3e/ef/3eef99c9d9adef34639f51066202...</td>\n",
       "      <td>1</td>\n",
       "      <td>Soumission</td>\n",
       "      <td>50.10</td>\n",
       "      <td>10</td>\n",
       "    </tr>\n",
       "    <tr>\n",
       "      <th>3</th>\n",
       "      <td>media/cache/32/51/3251cf3a3412f53f339e42cac213...</td>\n",
       "      <td>4</td>\n",
       "      <td>Sharp Objects</td>\n",
       "      <td>47.82</td>\n",
       "      <td>13</td>\n",
       "    </tr>\n",
       "    <tr>\n",
       "      <th>4</th>\n",
       "      <td>media/cache/be/a5/bea5697f2534a2f86a3ef27b5a8c...</td>\n",
       "      <td>5</td>\n",
       "      <td>Sapiens: A Brief History of Humankind</td>\n",
       "      <td>54.23</td>\n",
       "      <td>37</td>\n",
       "    </tr>\n",
       "    <tr>\n",
       "      <th>5</th>\n",
       "      <td>media/cache/68/33/68339b4c9bc034267e1da611ab3b...</td>\n",
       "      <td>1</td>\n",
       "      <td>The Requiem Red</td>\n",
       "      <td>22.65</td>\n",
       "      <td>15</td>\n",
       "    </tr>\n",
       "    <tr>\n",
       "      <th>6</th>\n",
       "      <td>media/cache/92/27/92274a95b7c251fea59a2b8a7827...</td>\n",
       "      <td>4</td>\n",
       "      <td>The Dirty Little Secrets of Getting Your Dream...</td>\n",
       "      <td>33.34</td>\n",
       "      <td>50</td>\n",
       "    </tr>\n",
       "    <tr>\n",
       "      <th>7</th>\n",
       "      <td>media/cache/3d/54/3d54940e57e662c4dd1f3ff00c78...</td>\n",
       "      <td>3</td>\n",
       "      <td>The Coming Woman: A Novel Based on the Life of...</td>\n",
       "      <td>17.93</td>\n",
       "      <td>87</td>\n",
       "    </tr>\n",
       "    <tr>\n",
       "      <th>8</th>\n",
       "      <td>media/cache/66/88/66883b91f6804b2323c8369331cb...</td>\n",
       "      <td>4</td>\n",
       "      <td>The Boys in the Boat: Nine Americans and Their...</td>\n",
       "      <td>22.60</td>\n",
       "      <td>94</td>\n",
       "    </tr>\n",
       "    <tr>\n",
       "      <th>9</th>\n",
       "      <td>media/cache/58/46/5846057e28022268153beff6d352...</td>\n",
       "      <td>1</td>\n",
       "      <td>The Black Maria</td>\n",
       "      <td>52.15</td>\n",
       "      <td>15</td>\n",
       "    </tr>\n",
       "    <tr>\n",
       "      <th>10</th>\n",
       "      <td>media/cache/be/f4/bef44da28c98f905a3ebec0b87be...</td>\n",
       "      <td>2</td>\n",
       "      <td>Starving Hearts (Triangular Trade Trilogy, #1)</td>\n",
       "      <td>13.99</td>\n",
       "      <td>46</td>\n",
       "    </tr>\n",
       "    <tr>\n",
       "      <th>11</th>\n",
       "      <td>media/cache/10/48/1048f63d3b5061cd2f424d20b3f9...</td>\n",
       "      <td>4</td>\n",
       "      <td>Shakespeare's Sonnets</td>\n",
       "      <td>20.66</td>\n",
       "      <td>21</td>\n",
       "    </tr>\n",
       "    <tr>\n",
       "      <th>12</th>\n",
       "      <td>media/cache/5b/88/5b88c52633f53cacf162c15f4f82...</td>\n",
       "      <td>5</td>\n",
       "      <td>Set Me Free</td>\n",
       "      <td>17.46</td>\n",
       "      <td>11</td>\n",
       "    </tr>\n",
       "    <tr>\n",
       "      <th>13</th>\n",
       "      <td>media/cache/94/b1/94b1b8b244bce9677c2f29ccc890...</td>\n",
       "      <td>5</td>\n",
       "      <td>Scott Pilgrim's Precious Little Life (Scott Pi...</td>\n",
       "      <td>52.29</td>\n",
       "      <td>55</td>\n",
       "    </tr>\n",
       "    <tr>\n",
       "      <th>14</th>\n",
       "      <td>media/cache/81/c4/81c4a973364e17d01f217e118825...</td>\n",
       "      <td>5</td>\n",
       "      <td>Rip it Up and Start Again</td>\n",
       "      <td>35.02</td>\n",
       "      <td>25</td>\n",
       "    </tr>\n",
       "    <tr>\n",
       "      <th>15</th>\n",
       "      <td>media/cache/54/60/54607fe8945897cdcced0044103b...</td>\n",
       "      <td>3</td>\n",
       "      <td>Our Band Could Be Your Life: Scenes from the A...</td>\n",
       "      <td>57.25</td>\n",
       "      <td>82</td>\n",
       "    </tr>\n",
       "    <tr>\n",
       "      <th>16</th>\n",
       "      <td>media/cache/55/33/553310a7162dfbc2c6d19a84da0d...</td>\n",
       "      <td>1</td>\n",
       "      <td>Olio</td>\n",
       "      <td>23.88</td>\n",
       "      <td>4</td>\n",
       "    </tr>\n",
       "    <tr>\n",
       "      <th>17</th>\n",
       "      <td>media/cache/09/a3/09a3aef48557576e1a85ba7efea8...</td>\n",
       "      <td>1</td>\n",
       "      <td>Mesaerion: The Best Science Fiction Stories 18...</td>\n",
       "      <td>37.59</td>\n",
       "      <td>53</td>\n",
       "    </tr>\n",
       "    <tr>\n",
       "      <th>18</th>\n",
       "      <td>media/cache/0b/bc/0bbcd0a6f4bcd81ccb1049a52736...</td>\n",
       "      <td>2</td>\n",
       "      <td>Libertarianism for Beginners</td>\n",
       "      <td>51.33</td>\n",
       "      <td>28</td>\n",
       "    </tr>\n",
       "    <tr>\n",
       "      <th>19</th>\n",
       "      <td>media/cache/27/a5/27a53d0bb95bdd88288eaf66c923...</td>\n",
       "      <td>2</td>\n",
       "      <td>It's Only the Himalayas</td>\n",
       "      <td>45.17</td>\n",
       "      <td>23</td>\n",
       "    </tr>\n",
       "  </tbody>\n",
       "</table>\n",
       "</div>"
      ]
     },
     "execution_count": 274,
     "metadata": {},
     "output_type": "execute_result"
    }
   ],
   "execution_count": 274
  },
  {
   "cell_type": "markdown",
   "id": "61d107fc-eccb-4723-9f63-3051c45f9c99",
   "metadata": {
    "deletable": false,
    "editable": false,
    "nbgrader": {
     "cell_type": "markdown",
     "checksum": "6d46c1312cd1f1e3632eccab59cccb1e",
     "grade": false,
     "grade_id": "cell-5a5d4e23eb61589c",
     "locked": true,
     "schema_version": 3,
     "solution": false,
     "task": false
    }
   },
   "source": [
    "**(0.2 points)** Create box plots showing the distribution of product prices for each rating."
   ]
  },
  {
   "cell_type": "code",
   "id": "d598536e-af9a-4476-b6ef-cc678f234266",
   "metadata": {
    "deletable": false,
    "nbgrader": {
     "cell_type": "code",
     "checksum": "ed9dc5264d2a49976cb81c2ad013b92d",
     "grade": true,
     "grade_id": "cell-166144cfad577966",
     "locked": false,
     "points": 0.2,
     "schema_version": 3,
     "solution": true,
     "task": false
    },
    "ExecuteTime": {
     "end_time": "2025-10-30T23:28:26.591436Z",
     "start_time": "2025-10-30T23:28:26.587069Z"
    }
   },
   "source": [
    "### MANUALLY GRADED ANSWER\n",
    "def plot_price_distribution_per_rating(df):\n",
    "    \"\"\"Plot the price distribution of the products per rating.\"\"\"\n",
    "\n",
    "    # YOUR CODE HERE\n",
    "    sns.boxplot(df, x='rating', y='price')\n",
    "    plt.show()\n",
    "    # raise NotImplementedError()"
   ],
   "outputs": [],
   "execution_count": 283
  },
  {
   "cell_type": "code",
   "id": "7b9df295-d348-4261-a22d-2b403eb16c73",
   "metadata": {
    "deletable": false,
    "editable": false,
    "nbgrader": {
     "cell_type": "code",
     "checksum": "9364b273ab238b25155deb056955de24",
     "grade": false,
     "grade_id": "cell-7b7612411b9ade82",
     "locked": true,
     "schema_version": 3,
     "solution": false,
     "task": false
    },
    "ExecuteTime": {
     "end_time": "2025-10-30T23:28:27.027676Z",
     "start_time": "2025-10-30T23:28:26.969487Z"
    }
   },
   "source": [
    "plot_price_distribution_per_rating(df)"
   ],
   "outputs": [
    {
     "data": {
      "text/plain": [
       "<Figure size 640x480 with 1 Axes>"
      ],
      "image/png": "[encoded data removed]"
     },
     "metadata": {},
     "output_type": "display_data",
     "jetTransient": {
      "display_id": null
     }
    }
   ],
   "execution_count": 284
  },
  {
   "cell_type": "markdown",
   "id": "081113de-6f31-466d-aeab-b382acb4c634",
   "metadata": {
    "deletable": false,
    "editable": false,
    "nbgrader": {
     "cell_type": "markdown",
     "checksum": "e0b018084c5b4cff0c15d3a8d0366c84",
     "grade": false,
     "grade_id": "cell-594199d9e7058580",
     "locked": true,
     "schema_version": 3,
     "solution": false,
     "task": false
    }
   },
   "source": [
    "**(0.2 points)** Create a heatmap showing the Pearson correlation between the numeric variables in the dataset."
   ]
  },
  {
   "cell_type": "code",
   "id": "b08b8631-7a85-4e86-a18e-b7f9e6a0bcc2",
   "metadata": {
    "deletable": false,
    "nbgrader": {
     "cell_type": "code",
     "checksum": "3d5f1b86cefeea330489302800152086",
     "grade": true,
     "grade_id": "cell-9be6a485a8e959e3",
     "locked": false,
     "points": 0.2,
     "schema_version": 3,
     "solution": true,
     "task": false
    },
    "ExecuteTime": {
     "end_time": "2025-10-30T23:32:52.413646Z",
     "start_time": "2025-10-30T23:32:52.408767Z"
    }
   },
   "source": [
    "### MANUALLY GRADED ANSWER\n",
    "def plot_corr_heat_map(df):\n",
    "    \"\"\"Plot the Pearson correlation between the numeric variables in the dataset using a heat map.\"\"\"\n",
    "\n",
    "    # YOUR CODE HERE\n",
    "    sns.heatmap(df.corr(numeric_only=True),annot=True)\n",
    "    plt.show()\n",
    "    # raise NotImplementedError()"
   ],
   "outputs": [],
   "execution_count": 290
  },
  {
   "cell_type": "code",
   "id": "f1c3afad-18c1-4f29-9ce0-e9043d2d46ee",
   "metadata": {
    "deletable": false,
    "editable": false,
    "nbgrader": {
     "cell_type": "code",
     "checksum": "2eb1199c990a29c028ed959dfaf12c85",
     "grade": false,
     "grade_id": "cell-913ad0c56a720ef5",
     "locked": true,
     "schema_version": 3,
     "solution": false,
     "task": false
    },
    "ExecuteTime": {
     "end_time": "2025-10-30T23:32:55.541238Z",
     "start_time": "2025-10-30T23:32:55.472115Z"
    }
   },
   "source": [
    "plot_corr_heat_map(df)"
   ],
   "outputs": [
    {
     "data": {
      "text/plain": [
       "<Figure size 640x480 with 2 Axes>"
      ],
      "image/png": "[encoded data removed]"
     },
     "metadata": {},
     "output_type": "display_data",
     "jetTransient": {
      "display_id": null
     }
    }
   ],
   "execution_count": 292
  },
  {
   "cell_type": "markdown",
   "id": "33056e68-7595-45c9-97d5-13c7aa4fc299",
   "metadata": {
    "deletable": false,
    "editable": false,
    "nbgrader": {
     "cell_type": "markdown",
     "checksum": "b34e0dec2dc8ca70bdae1dbed5b2a75b",
     "grade": false,
     "grade_id": "cell-bf617ed79ed7e37c",
     "locked": true,
     "schema_version": 3,
     "solution": false,
     "task": false
    }
   },
   "source": [
    "**(0.2 points)** Compute the `count`, `mean`, `std`, `min`, `25%`, `median`, `75%`, and `max` statistics of product prices grouped by rating (1-5)."
   ]
  },
  {
   "cell_type": "code",
   "id": "c82fbdd8-b866-429c-95d3-7dcc6acb2a6e",
   "metadata": {
    "deletable": false,
    "nbgrader": {
     "cell_type": "code",
     "checksum": "b9a9df3186e7d8e166cb50270c856c33",
     "grade": true,
     "grade_id": "cell-9dea05ecfb980c40",
     "locked": false,
     "points": 0.2,
     "schema_version": 3,
     "solution": true,
     "task": false
    },
    "ExecuteTime": {
     "end_time": "2025-10-30T23:36:38.154122Z",
     "start_time": "2025-10-30T23:36:38.148790Z"
    }
   },
   "source": [
    "### MANUALLY GRADED ANSWER\n",
    "def compute_descriptive_stats_for_price_per_rating(df):\n",
    "    \"\"\"\n",
    "    Compute the `count`, `mean`, `std`, `min`, `25% quantile`, `median`, `75% quantile`, and `max` statistics\n",
    "    for the product's prices per rating (1-5). Return them as a `pandas.DataFrame`.\n",
    "    \"\"\"\n",
    "\n",
    "    # YOUR CODE HERE\n",
    "    grupirani = df.groupby(by=['rating'])[['price']].describe()\n",
    "    return grupirani\n",
    "\n",
    "    # raise NotImplementedError()"
   ],
   "outputs": [],
   "execution_count": 295
  },
  {
   "cell_type": "code",
   "id": "60d5280e-975c-4520-9063-ebb4b3620b01",
   "metadata": {
    "deletable": false,
    "editable": false,
    "nbgrader": {
     "cell_type": "code",
     "checksum": "79c6bab3502840dff295ac18714d567d",
     "grade": false,
     "grade_id": "cell-a3d6c0fcca8e42a3",
     "locked": true,
     "schema_version": 3,
     "solution": false,
     "task": false
    },
    "ExecuteTime": {
     "end_time": "2025-10-30T23:36:39.905970Z",
     "start_time": "2025-10-30T23:36:39.890862Z"
    }
   },
   "source": [
    "compute_descriptive_stats_for_price_per_rating(df)"
   ],
   "outputs": [
    {
     "data": {
      "text/plain": [
       "       price                                                              \n",
       "       count       mean        std    min      25%     50%      75%    max\n",
       "rating                                                                    \n",
       "1        6.0  40.018333  14.178174  22.65  27.3075  43.845  51.6375  53.74\n",
       "2        3.0  36.830000  20.018382  13.99  29.5800  45.170  48.2500  51.33\n",
       "3        3.0  42.316667  21.296472  17.93  34.8500  51.770  54.5100  57.25\n",
       "4        4.0  31.105000  12.460865  20.66  22.1150  27.970  36.9600  47.82\n",
       "5        4.0  39.750000  17.186613  17.46  30.6300  43.655  52.7750  54.23"
      ],
      "text/html": [
       "<div>\n",
       "<style scoped>\n",
       "    .dataframe tbody tr th:only-of-type {\n",
       "        vertical-align: middle;\n",
       "    }\n",
       "\n",
       "    .dataframe tbody tr th {\n",
       "        vertical-align: top;\n",
       "    }\n",
       "\n",
       "    .dataframe thead tr th {\n",
       "        text-align: left;\n",
       "    }\n",
       "\n",
       "    .dataframe thead tr:last-of-type th {\n",
       "        text-align: right;\n",
       "    }\n",
       "</style>\n",
       "<table border=\"1\" class=\"dataframe\">\n",
       "  <thead>\n",
       "    <tr>\n",
       "      <th></th>\n",
       "      <th colspan=\"8\" halign=\"left\">price</th>\n",
       "    </tr>\n",
       "    <tr>\n",
       "      <th></th>\n",
       "      <th>count</th>\n",
       "      <th>mean</th>\n",
       "      <th>std</th>\n",
       "      <th>min</th>\n",
       "      <th>25%</th>\n",
       "      <th>50%</th>\n",
       "      <th>75%</th>\n",
       "      <th>max</th>\n",
       "    </tr>\n",
       "    <tr>\n",
       "      <th>rating</th>\n",
       "      <th></th>\n",
       "      <th></th>\n",
       "      <th></th>\n",
       "      <th></th>\n",
       "      <th></th>\n",
       "      <th></th>\n",
       "      <th></th>\n",
       "      <th></th>\n",
       "    </tr>\n",
       "  </thead>\n",
       "  <tbody>\n",
       "    <tr>\n",
       "      <th>1</th>\n",
       "      <td>6.0</td>\n",
       "      <td>40.018333</td>\n",
       "      <td>14.178174</td>\n",
       "      <td>22.65</td>\n",
       "      <td>27.3075</td>\n",
       "      <td>43.845</td>\n",
       "      <td>51.6375</td>\n",
       "      <td>53.74</td>\n",
       "    </tr>\n",
       "    <tr>\n",
       "      <th>2</th>\n",
       "      <td>3.0</td>\n",
       "      <td>36.830000</td>\n",
       "      <td>20.018382</td>\n",
       "      <td>13.99</td>\n",
       "      <td>29.5800</td>\n",
       "      <td>45.170</td>\n",
       "      <td>48.2500</td>\n",
       "      <td>51.33</td>\n",
       "    </tr>\n",
       "    <tr>\n",
       "      <th>3</th>\n",
       "      <td>3.0</td>\n",
       "      <td>42.316667</td>\n",
       "      <td>21.296472</td>\n",
       "      <td>17.93</td>\n",
       "      <td>34.8500</td>\n",
       "      <td>51.770</td>\n",
       "      <td>54.5100</td>\n",
       "      <td>57.25</td>\n",
       "    </tr>\n",
       "    <tr>\n",
       "      <th>4</th>\n",
       "      <td>4.0</td>\n",
       "      <td>31.105000</td>\n",
       "      <td>12.460865</td>\n",
       "      <td>20.66</td>\n",
       "      <td>22.1150</td>\n",
       "      <td>27.970</td>\n",
       "      <td>36.9600</td>\n",
       "      <td>47.82</td>\n",
       "    </tr>\n",
       "    <tr>\n",
       "      <th>5</th>\n",
       "      <td>4.0</td>\n",
       "      <td>39.750000</td>\n",
       "      <td>17.186613</td>\n",
       "      <td>17.46</td>\n",
       "      <td>30.6300</td>\n",
       "      <td>43.655</td>\n",
       "      <td>52.7750</td>\n",
       "      <td>54.23</td>\n",
       "    </tr>\n",
       "  </tbody>\n",
       "</table>\n",
       "</div>"
      ]
     },
     "execution_count": 296,
     "metadata": {},
     "output_type": "execute_result"
    }
   ],
   "execution_count": 296
  }
 ],
 "metadata": {
  "kernelspec": {
   "display_name": "Python 3 (ipykernel)",
   "language": "python",
   "name": "python3"
  },
  "language_info": {
   "codemirror_mode": {
    "name": "ipython",
    "version": 3
   },
   "file_extension": ".py",
   "mimetype": "text/x-python",
   "name": "python",
   "nbconvert_exporter": "python",
   "pygments_lexer": "ipython3",
   "version": "3.10.10"
  }
 },
 "nbformat": 4,
 "nbformat_minor": 5
}
